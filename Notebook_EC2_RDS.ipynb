{
  "nbformat": 4,
  "nbformat_minor": 0,
  "metadata": {
    "colab": {
      "provenance": []
    },
    "kernelspec": {
      "name": "python3",
      "display_name": "Python 3"
    },
    "language_info": {
      "name": "python"
    }
  },
  "cells": [
    {
      "cell_type": "code",
      "execution_count": 7,
      "metadata": {
        "colab": {
          "base_uri": "https://localhost:8080/"
        },
        "id": "9gbxil98dPkj",
        "outputId": "4da10083-5fd5-4818-8531-cc91a7aae000"
      },
      "outputs": [
        {
          "output_type": "stream",
          "name": "stdout",
          "text": [
            "Requirement already satisfied: mysql-connector-python in /usr/local/lib/python3.10/dist-packages (9.1.0)\n",
            "Requirement already satisfied: sshtunnel in /usr/local/lib/python3.10/dist-packages (0.4.0)\n",
            "Requirement already satisfied: paramiko>=2.7.2 in /usr/local/lib/python3.10/dist-packages (from sshtunnel) (3.5.0)\n",
            "Requirement already satisfied: bcrypt>=3.2 in /usr/local/lib/python3.10/dist-packages (from paramiko>=2.7.2->sshtunnel) (4.2.0)\n",
            "Requirement already satisfied: cryptography>=3.3 in /usr/local/lib/python3.10/dist-packages (from paramiko>=2.7.2->sshtunnel) (43.0.3)\n",
            "Requirement already satisfied: pynacl>=1.5 in /usr/local/lib/python3.10/dist-packages (from paramiko>=2.7.2->sshtunnel) (1.5.0)\n",
            "Requirement already satisfied: cffi>=1.12 in /usr/local/lib/python3.10/dist-packages (from cryptography>=3.3->paramiko>=2.7.2->sshtunnel) (1.17.1)\n",
            "Requirement already satisfied: pycparser in /usr/local/lib/python3.10/dist-packages (from cffi>=1.12->cryptography>=3.3->paramiko>=2.7.2->sshtunnel) (2.22)\n"
          ]
        }
      ],
      "source": [
        "#Installation blk.\n",
        "!pip install mysql-connector-python\n",
        "!pip install sshtunnel"
      ]
    },
    {
      "cell_type": "code",
      "source": [
        "#Import blk.\n",
        "from   io         import StringIO\n",
        "import pandas     as pd\n",
        "import numpy      as np\n",
        "\n",
        "import re\n",
        "import mysql.connector\n",
        "from   mysql.connector import Error\n",
        "\n",
        "from   sshtunnel import SSHTunnelForwarder\n"
      ],
      "metadata": {
        "id": "QVnvU8qwdeEb"
      },
      "execution_count": 15,
      "outputs": []
    },
    {
      "cell_type": "code",
      "source": [
        "#No IP4 blk\n",
        "\n",
        "bastion_host   = \"54.236.94.144\"\n",
        "bastion_user   = \"ec2-user\"\n",
        "bastion_passwd = \"123456\"\n",
        "rds_endpoint   = \"tunnel-end-db.cdqeagyemzld.us-east-1.rds.amazonaws.com\"\n",
        "rds_port   = 1770\n",
        "local_port = 0 #could be everything\n",
        "\n",
        "# Establishing a tunnel; cuz we wanna a path: this Notebook -> EC2 -> RDS\n",
        "tunnel = SSHTunnelForwarder(\n",
        "    (bastion_host, 0),  # If you aint sure 'bout this port, use 0. Default is 22.\n",
        "    ssh_username = bastion_user,\n",
        "    ssh_password = bastion_passwd,\n",
        "    remote_bind_address=(rds_endpoint, rds_port),\n",
        "    local_bind_address=(\"localhost\", local_port),\n",
        "    allow_agent=False,\n",
        "    #set_keepalive=10.0\n",
        ")\n",
        "\n",
        "tunnel.start()\n",
        "\n",
        "try:\n",
        "  conn = mysql.connector.connect(\n",
        "        host     = \"localhost\",\n",
        "        user     = \"walkk\",\n",
        "        password = bastion_passwd,\n",
        "        #database   = \"dealercustomers\",\n",
        "        port     = tunnel.local_bind_port\n",
        "    )\n",
        "\n",
        "  cursor = conn.cursor()\n",
        "  cursor.execute(\"SHOW DATABASES\")\n",
        "\n",
        "  #conn.commit()\n",
        "  for basis in cursor.fetchall():\n",
        "    print(\"\\nLAODING...\\n\")\n",
        "    print(\"Fetched: \", basis[0] ,\"\\n\")\n",
        "\n",
        "\n",
        "  conn.close()\n",
        "  print( \"Successfully fetched and closed RDS. \\n\")\n",
        "except Error as e:\n",
        "  print(f\"Error: {e}\")\n",
        "\n",
        "print(\"Successfully connected and closed EC2. \\n\")\n",
        "tunnel.close()"
      ],
      "metadata": {
        "colab": {
          "base_uri": "https://localhost:8080/"
        },
        "id": "ovmyOs5Btnca",
        "outputId": "03a2ae65-57c0-41f0-8f23-8c138888b4d6"
      },
      "execution_count": 22,
      "outputs": [
        {
          "output_type": "stream",
          "name": "stdout",
          "text": [
            "\n",
            "LAODING...\n",
            "\n",
            "Fetched:  information_schema \n",
            "\n",
            "\n",
            "LAODING...\n",
            "\n",
            "Fetched:  mysql \n",
            "\n",
            "\n",
            "LAODING...\n",
            "\n",
            "Fetched:  performance_schema \n",
            "\n",
            "\n",
            "LAODING...\n",
            "\n",
            "Fetched:  sys \n",
            "\n",
            "Successfully fetched and closed RDS. \n",
            "\n",
            "Successfully connected and closed EC2. \n",
            "\n"
          ]
        }
      ]
    },
    {
      "cell_type": "markdown",
      "source": [
        "#The whole implementation is commensurate with this in bash:\n",
        "\n",
        "``ssh user-name@xxx.xxx.xxx.xxx -h something.rds.amazonaws.com -L -N -v``"
      ],
      "metadata": {
        "id": "O77vQamLN87F"
      }
    }
  ]
}