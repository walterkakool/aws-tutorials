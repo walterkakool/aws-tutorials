{
  "nbformat": 4,
  "nbformat_minor": 0,
  "metadata": {
    "colab": {
      "provenance": []
    },
    "kernelspec": {
      "name": "python3",
      "display_name": "Python 3"
    },
    "language_info": {
      "name": "python"
    }
  },
  "cells": [
    {
      "cell_type": "code",
      "execution_count": 2,
      "metadata": {
        "colab": {
          "base_uri": "https://localhost:8080/"
        },
        "id": "9gbxil98dPkj",
        "outputId": "93bc3402-8743-4503-87e6-2ad9ebbce736"
      },
      "outputs": [
        {
          "output_type": "stream",
          "name": "stdout",
          "text": [
            "Collecting mysql-connector-python\n",
            "  Downloading mysql_connector_python-9.1.0-cp310-cp310-manylinux_2_28_x86_64.whl.metadata (6.0 kB)\n",
            "Downloading mysql_connector_python-9.1.0-cp310-cp310-manylinux_2_28_x86_64.whl (34.4 MB)\n",
            "\u001b[2K   \u001b[90m━━━━━━━━━━━━━━━━━━━━━━━━━━━━━━━━━━━━━━━━\u001b[0m \u001b[32m34.4/34.4 MB\u001b[0m \u001b[31m14.6 MB/s\u001b[0m eta \u001b[36m0:00:00\u001b[0m\n",
            "\u001b[?25hInstalling collected packages: mysql-connector-python\n",
            "Successfully installed mysql-connector-python-9.1.0\n",
            "Collecting sshtunnel\n",
            "  Downloading sshtunnel-0.4.0-py2.py3-none-any.whl.metadata (19 kB)\n",
            "Collecting paramiko>=2.7.2 (from sshtunnel)\n",
            "  Downloading paramiko-3.5.0-py3-none-any.whl.metadata (4.4 kB)\n",
            "Collecting bcrypt>=3.2 (from paramiko>=2.7.2->sshtunnel)\n",
            "  Downloading bcrypt-4.2.0-cp39-abi3-manylinux_2_28_x86_64.whl.metadata (9.6 kB)\n",
            "Requirement already satisfied: cryptography>=3.3 in /usr/local/lib/python3.10/dist-packages (from paramiko>=2.7.2->sshtunnel) (43.0.3)\n",
            "Collecting pynacl>=1.5 (from paramiko>=2.7.2->sshtunnel)\n",
            "  Downloading PyNaCl-1.5.0-cp36-abi3-manylinux_2_17_x86_64.manylinux2014_x86_64.manylinux_2_24_x86_64.whl.metadata (8.6 kB)\n",
            "Requirement already satisfied: cffi>=1.12 in /usr/local/lib/python3.10/dist-packages (from cryptography>=3.3->paramiko>=2.7.2->sshtunnel) (1.17.1)\n",
            "Requirement already satisfied: pycparser in /usr/local/lib/python3.10/dist-packages (from cffi>=1.12->cryptography>=3.3->paramiko>=2.7.2->sshtunnel) (2.22)\n",
            "Downloading sshtunnel-0.4.0-py2.py3-none-any.whl (24 kB)\n",
            "Downloading paramiko-3.5.0-py3-none-any.whl (227 kB)\n",
            "\u001b[2K   \u001b[90m━━━━━━━━━━━━━━━━━━━━━━━━━━━━━━━━━━━━━━━━\u001b[0m \u001b[32m227.1/227.1 kB\u001b[0m \u001b[31m7.1 MB/s\u001b[0m eta \u001b[36m0:00:00\u001b[0m\n",
            "\u001b[?25hDownloading bcrypt-4.2.0-cp39-abi3-manylinux_2_28_x86_64.whl (273 kB)\n",
            "\u001b[2K   \u001b[90m━━━━━━━━━━━━━━━━━━━━━━━━━━━━━━━━━━━━━━━━\u001b[0m \u001b[32m273.8/273.8 kB\u001b[0m \u001b[31m15.9 MB/s\u001b[0m eta \u001b[36m0:00:00\u001b[0m\n",
            "\u001b[?25hDownloading PyNaCl-1.5.0-cp36-abi3-manylinux_2_17_x86_64.manylinux2014_x86_64.manylinux_2_24_x86_64.whl (856 kB)\n",
            "\u001b[2K   \u001b[90m━━━━━━━━━━━━━━━━━━━━━━━━━━━━━━━━━━━━━━━━\u001b[0m \u001b[32m856.7/856.7 kB\u001b[0m \u001b[31m33.2 MB/s\u001b[0m eta \u001b[36m0:00:00\u001b[0m\n",
            "\u001b[?25hInstalling collected packages: bcrypt, pynacl, paramiko, sshtunnel\n",
            "Successfully installed bcrypt-4.2.0 paramiko-3.5.0 pynacl-1.5.0 sshtunnel-0.4.0\n"
          ]
        }
      ],
      "source": [
        "#Installation blk.\n",
        "!pip install mysql-connector-python\n",
        "!pip install sshtunnel"
      ]
    },
    {
      "cell_type": "code",
      "source": [
        "#Import blk.\n",
        "from   io         import StringIO\n",
        "import pandas     as pd\n",
        "import numpy      as np\n",
        "\n",
        "import re\n",
        "import mysql.connector\n",
        "from   mysql.connector import Error\n",
        "\n",
        "from   sshtunnel import SSHTunnelForwarder\n"
      ],
      "metadata": {
        "id": "QVnvU8qwdeEb"
      },
      "execution_count": 3,
      "outputs": []
    },
    {
      "cell_type": "code",
      "source": [
        "#No IP4 blk\n",
        "\n",
        "bastion_host   = \"18.212.240.245\"\n",
        "bastion_user   = \"ec2-user\"\n",
        "bastion_passwd = \"147852passwd\"\n",
        "rds_endpoint   = \"db-tunnel-end.cdqeagyemzld.us-east-1.rds.amazonaws.com\"\n",
        "rds_port       = 1770\n",
        "local_port     = 0 #could be everything\n",
        "\n",
        "# Establishing a tunnel; cuz we wanna a path: this Notebook -> EC2 -> RDS\n",
        "tunnel = SSHTunnelForwarder(\n",
        "    (bastion_host, 0),  # If you aint sure 'bout this port, use 0. Default is 22.\n",
        "    ssh_username = bastion_user,\n",
        "    ssh_password = bastion_passwd,\n",
        "    remote_bind_address=(rds_endpoint, rds_port),\n",
        "    local_bind_address=(\"localhost\", local_port),\n",
        "    allow_agent=False,\n",
        "    #set_keepalive=10.0\n",
        ")\n",
        "\n",
        "tunnel.start()\n",
        "\n",
        "try:\n",
        "  conn = mysql.connector.connect(\n",
        "        host     = \"localhost\",\n",
        "        user     = \"walkk\",\n",
        "        password = \"123456passwd\",\n",
        "        #database   = \"dealercustomers\",\n",
        "        port     = tunnel.local_bind_port\n",
        "    )\n",
        "\n",
        "  cursor = conn.cursor()\n",
        "  cursor.execute(\"SHOW DATABASES\")\n",
        "\n",
        "  #conn.commit()\n",
        "  for basis in cursor.fetchall():\n",
        "    print(\"\\nLOADING...\\n\")\n",
        "    print(\"Fetched: \", basis[0] ,\"\\n\")\n",
        "\n",
        "\n",
        "  conn.close()\n",
        "  print( \"Successfully fetched and closed RDS. \\n\")\n",
        "except Error as e:\n",
        "  print(f\"Error: {e}\")\n",
        "\n",
        "print(\"Successfully connected and closed EC2. \\n\")\n",
        "tunnel.close()"
      ],
      "metadata": {
        "colab": {
          "base_uri": "https://localhost:8080/"
        },
        "id": "ovmyOs5Btnca",
        "outputId": "e03ae0d3-2ee4-40e2-c79b-17080fcef700"
      },
      "execution_count": 7,
      "outputs": [
        {
          "output_type": "stream",
          "name": "stdout",
          "text": [
            "\n",
            "LOADING...\n",
            "\n",
            "Fetched:  information_schema \n",
            "\n",
            "\n",
            "LOADING...\n",
            "\n",
            "Fetched:  mysql \n",
            "\n",
            "\n",
            "LOADING...\n",
            "\n",
            "Fetched:  performance_schema \n",
            "\n",
            "\n",
            "LOADING...\n",
            "\n",
            "Fetched:  sys \n",
            "\n",
            "Successfully fetched and closed RDS. \n",
            "\n",
            "Successfully connected and closed EC2. \n",
            "\n"
          ]
        }
      ]
    },
    {
      "cell_type": "markdown",
      "source": [
        "#The whole implementation is commensurate with this in Bash:\n",
        "\n",
        "``ssh user-name@xxx.xxx.xxx.xxx -h something.rds.amazonaws.com -L -N -v``"
      ],
      "metadata": {
        "id": "O77vQamLN87F"
      }
    }
  ]
}